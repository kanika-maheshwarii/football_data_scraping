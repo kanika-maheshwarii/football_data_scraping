{
 "cells": [
  {
   "cell_type": "code",
   "execution_count": 31,
   "metadata": {},
   "outputs": [],
   "source": [
    "from selenium import webdriver\n",
    "from selenium.webdriver.chrome.options import Options\n",
    "from selenium.webdriver.common.by import By\n",
    "import pandas as pd\n",
    "from selenium.webdriver.support.select import Select\n",
    "import time"
   ]
  },
  {
   "cell_type": "code",
   "execution_count": 32,
   "metadata": {},
   "outputs": [],
   "source": [
    "chrome_options = Options()\n",
    "global driver\n",
    "driver = webdriver.Chrome( options=chrome_options)\n",
    "website = \"https://www.adamchoi.co.uk/teamgoals/detailed\"\n",
    "driver.get(website)\n"
   ]
  },
  {
   "cell_type": "code",
   "execution_count": 33,
   "metadata": {},
   "outputs": [],
   "source": [
    "all_matches_button = driver.find_element(By.XPATH, '//label[@analytics-event=\"All matches\"]')\n",
    "all_matches_button.click()\n",
    "\n",
    "\n",
    "dropdown = Select(driver.find_element(By.ID, 'country'))\n",
    "dropdown.select_by_visible_text('Spain')\n",
    "time.sleep(3)"
   ]
  },
  {
   "cell_type": "code",
   "execution_count": 34,
   "metadata": {},
   "outputs": [
    {
     "name": "stdout",
     "output_type": "stream",
     "text": [
      "['Cadiz', 'Alaves', 'Getafe', 'Alaves', 'Vallecano', 'Alaves', 'Celta', 'Alaves', 'Alaves', 'Villarreal', 'Ath Madrid', 'Alaves', 'Barcelona', 'Alaves', 'Mallorca', 'Alaves', 'Girona', 'Alaves', 'Sociedad', 'Sevilla', 'Alaves', 'Almeria', 'Alaves', 'Alaves', 'Betis', 'Alaves', 'Osasuna', 'Alaves', 'Ath Bilbao', 'Alaves', 'Granada', 'Almeria', 'Almeria', 'Cadiz', 'Almeria', 'Villarreal', 'Almeria', 'Sevilla', 'Almeria', 'Ath Bilbao', 'Girona', 'Almeria', 'Alaves', 'Almeria', 'Getafe', 'Almeria', 'Ath Madrid', 'Almeria', 'Barcelona', 'Osasuna', 'Almeria', 'Real Madrid', 'Almeria', 'Valencia', 'Almeria', 'Granada', 'Almeria', 'Celta', 'Almeria', 'Las Palmas', 'Almeria', 'Sociedad', 'Ath Bilbao', 'Osasuna', 'Ath Bilbao', 'Mallorca', 'Ath Bilbao', 'Alaves', 'Ath Bilbao', 'Sociedad', 'Ath Bilbao', 'Barcelona', 'Ath Bilbao', 'Villarreal', 'Ath Bilbao', 'Girona', 'Ath Bilbao', 'Granada', 'Ath Bilbao', 'Ath Bilbao', 'Sevilla', 'Ath Bilbao', 'Valencia', 'Cadiz', 'Ath Bilbao', 'Almeria', 'Ath Bilbao', 'Betis', 'Ath Bilbao', 'Las Palmas', 'Ath Bilbao', 'Real Madrid', 'Ath Bilbao', 'Ath Madrid', 'Betis', 'Vallecano', 'Valencia', 'Ath Madrid', 'Osasuna', 'Ath Madrid', 'Ath Madrid', 'Celta', 'Ath Madrid', 'Las Palmas', 'Ath Madrid', 'Ath Madrid', 'Barcelona', 'Ath Madrid', 'Ath Bilbao', 'Ath Madrid', 'Ath Madrid', 'Girona', 'Granada', 'Ath Madrid', 'Ath Madrid', 'Real Madrid', 'Sevilla', 'Ath Madrid', 'Almeria', 'Ath Madrid', 'Cadiz', 'Ath Madrid', 'Villarreal', 'Ath Madrid', 'Getafe', 'Barcelona', 'Villarreal', 'Osasuna', 'Barcelona', 'Barcelona', 'Mallorca', 'Barcelona', 'Granada', 'Barcelona', 'Barcelona', 'Sociedad', 'Barcelona', 'Vallecano', 'Barcelona', 'Barcelona', 'Valencia', 'Barcelona', 'Las Palmas', 'Betis', 'Barcelona', 'Barcelona', 'Alaves', 'Barcelona', 'Celta', 'Barcelona', 'Ath Bilbao', 'Barcelona', 'Ath Madrid', 'Barcelona', 'Cadiz', 'Villarreal', 'Betis', 'Ath Bilbao', 'Betis', 'Barcelona', 'Betis', 'Granada', 'Betis', 'Alaves', 'Getafe', 'Betis', 'Betis', 'Sevilla', 'Betis', 'Almeria', 'Betis', 'Sociedad', 'Betis', 'Celta', 'Betis', 'Betis', 'Mallorca', 'Betis', 'Cadiz', 'Betis', 'Betis', 'Ath Madrid', 'Betis', 'Vallecano', 'Girona', 'Betis', 'Cadiz', 'Barcelona', 'Cadiz', 'Cadiz', 'Ath Bilbao', 'Betis', 'Cadiz', 'Ath Madrid', 'Cadiz', 'Valencia', 'Cadiz', 'Getafe', 'Cadiz', 'Mallorca', 'Celta', 'Cadiz', 'Las Palmas', 'Cadiz', 'Granada', 'Cadiz', 'Alaves', 'Cadiz', 'Villarreal', 'Cadiz', 'Osasuna', 'Cadiz', 'Vallecano', 'Cadiz', 'Sociedad', 'Cadiz', 'Cadiz', 'Girona', 'Celta', 'Sociedad', 'Celta', 'Almeria', 'Celta', 'Barcelona', 'Celta', 'Las Palmas', 'Celta', 'Celta', 'Girona', 'Celta', 'Ath Bilbao', 'Valencia', 'Celta', 'Vallecano', 'Celta', 'Villarreal', 'Celta', 'Mallorca', 'Celta', 'Celta', 'Osasuna', 'Getafe', 'Celta', 'Cadiz', 'Celta', 'Real Madrid', 'Sevilla', 'Celta', 'Betis', 'Getafe', 'Girona', 'Getafe', 'Real Madrid', 'Getafe', 'Sociedad', 'Ath Bilbao', 'Getafe', 'Celta', 'Getafe', 'Mallorca', 'Getafe', 'Granada', 'Getafe', 'Las Palmas', 'Getafe', 'Sevilla', 'Ath Madrid', 'Getafe', 'Osasuna', 'Getafe', 'Getafe', 'Betis', 'Getafe', 'Villarreal', 'Barcelona', 'Getafe', 'Valencia', 'Getafe', 'Getafe', 'Vallecano', 'Sociedad', 'Girona', 'Sevilla', 'Girona', 'Granada', 'Girona', 'Villarreal', 'Girona', 'Cadiz', 'Girona', 'Girona', 'Osasuna', 'Vallecano', 'Girona', 'Girona', 'Barcelona', 'Girona', 'Betis', 'Girona', 'Almeria', 'Girona', 'Celta', 'Girona', 'Real Madrid', 'Ath Bilbao', 'Girona', 'Mallorca', 'Girona', 'Getafe', 'Girona', 'Ath Madrid', 'Girona', 'Ath Madrid', 'Granada', 'Granada', 'Sociedad', 'Granada', 'Las Palmas', 'Granada', 'Almeria', 'Granada', 'Osasuna', 'Granada', 'Valencia', 'Granada', 'Alaves', 'Real Madrid', 'Granada', 'Celta', 'Granada', 'Granada', 'Betis', 'Granada', 'Getafe', 'Granada', 'Barcelona', 'Granada', 'Villarreal', 'Granada', 'Mallorca', 'Cadiz', 'Granada', 'Granada', 'Las Palmas', 'Valencia', 'Las Palmas', 'Girona', 'Sevilla', 'Las Palmas', 'Real Madrid', 'Las Palmas', 'Villarreal', 'Las Palmas', 'Almeria', 'Las Palmas', 'Osasuna', 'Betis', 'Las Palmas', 'Alaves', 'Las Palmas', 'Ath Bilbao', 'Las Palmas', 'Las Palmas', 'Vallecano', 'Las Palmas', 'Granada', 'Las Palmas', 'Ath Madrid', 'Las Palmas', 'Getafe', 'Las Palmas', 'Las Palmas', 'Barcelona', 'Las Palmas', 'Las Palmas', 'Mallorca', 'Granada', 'Mallorca', 'Celta', 'Girona', 'Mallorca', 'Vallecano', 'Mallorca', 'Sociedad', 'Mallorca', 'Betis', 'Ath Madrid', 'Mallorca', 'Mallorca', 'Mallorca', 'Almeria', 'Mallorca', 'Real Madrid', 'Mallorca', 'Villarreal', 'Mallorca', 'Ath Bilbao', 'Mallorca', 'Mallorca', 'Alaves', 'Mallorca', 'Barcelona', 'Mallorca', 'Valencia', 'Mallorca', 'Celta', 'Osasuna', 'Valencia', 'Osasuna', 'Getafe', 'Osasuna', 'Osasuna', 'Alaves', 'Real Madrid', 'Osasuna', 'Betis', 'Osasuna', 'Osasuna', 'Villarreal', 'Osasuna', 'Cadiz', 'Osasuna', 'Mallorca', 'Osasuna', 'Osasuna', 'Sevilla', 'Barcelona', 'Osasuna', 'Sociedad', 'Osasuna', 'Las Palmas', 'Osasuna', 'Girona', 'Osasuna', 'Almeria', 'Osasuna', 'Ath Bilbao', 'Almeria', 'Celta', 'Real Madrid', 'Real Madrid', 'Ath Madrid', 'Real Madrid', 'Girona', 'Real Madrid', 'Sevilla', 'Barcelona', 'Real Madrid', 'Real Madrid', 'Cadiz', 'Real Madrid', 'Betis', 'Real Madrid', 'Alaves', 'Real Madrid', 'Real Madrid', 'Las Palmas', 'Getafe', 'Real Madrid', 'Real Madrid', 'Vallecano', 'Real Madrid', 'Valencia', 'Real Madrid', 'Osasuna', 'Real Madrid', 'Mallorca', 'Sevilla', 'Alaves', 'Sevilla', 'Sevilla', 'Osasuna', 'Sevilla', 'Barcelona', 'Sevilla', 'Sevilla', 'Cadiz', 'Celta', 'Sevilla', 'Sociedad', 'Sevilla', 'Mallorca', 'Sevilla', 'Granada', 'Ath Madrid', 'Sevilla', 'Sevilla', 'Girona', 'Sevilla', 'Vallecano', 'Sevilla', 'Valencia', 'Real Madrid', 'Sevilla', 'Almeria', 'Sevilla', 'Getafe', 'Las Palmas', 'Sociedad', 'Sociedad', 'Las Palmas', 'Sociedad', 'Real Madrid', 'Sociedad', 'Valencia', 'Sociedad', 'Ath Madrid', 'Sociedad', 'Vallecano', 'Sociedad', 'Almeria', 'Sociedad', 'Osasuna', 'Villarreal', 'Sociedad', 'Cadiz', 'Sociedad', 'Ath Bilbao', 'Celta', 'Sociedad', 'Girona', 'Sociedad', 'Mallorca', 'Sociedad', 'Sevilla', 'Granada', 'Sociedad', 'Alaves', 'Sociedad', 'Sevilla', 'Valencia', 'Valencia', 'Alaves', 'Valencia', 'Almeria', 'Valencia', 'Betis', 'Mallorca', 'Valencia', 'Ath Bilbao', 'Valencia', 'Real Madrid', 'Valencia', 'Girona', 'Getafe', 'Valencia', 'Vallecano', 'Valencia', 'Cadiz', 'Valencia', 'Ath Madrid', 'Valencia', 'Las Palmas', 'Valencia', 'Valencia', 'Valencia', 'Villarreal', 'Valencia', 'Granada', 'Osasuna', 'Almeria', 'Granada', 'Vallecano', 'Betis', 'Vallecano', 'Vallecano', 'Cadiz', 'Vallecano', 'Sevilla', 'Las Palmas', 'Vallecano', 'Real Madrid', 'Vallecano', 'Vallecano', 'Ath Bilbao', 'Vallecano', 'Osasuna', 'Vallecano', 'Getafe', 'Vallecano', 'Sociedad', 'Ath Madrid', 'Vallecano', 'Mallorca', 'Vallecano', 'Girona', 'Vallecano', 'Alaves', 'Vallecano', 'Celta', 'Vallecano', 'Villarreal', 'Mallorca', 'Villarreal', 'Cadiz', 'Villarreal', 'Vallecano', 'Villarreal', 'Getafe', 'Villarreal', 'Villarreal', 'Granada', 'Villarreal', 'Ath Madrid', 'Villarreal', 'Sevilla', 'Villarreal', 'Real Madrid', 'Villarreal', 'Valencia', 'Las Palmas', 'Villarreal', 'Barcelona', 'Villarreal', 'Alaves', 'Villarreal', 'Sociedad', 'Villarreal', 'Betis', 'Villarreal', 'Villarreal', 'Ath Bilbao']\n"
     ]
    }
   ],
   "source": [
    "matches = driver.find_elements(By.TAG_NAME, 'tr')\n",
    "\n",
    "date = []\n",
    "home_team = []\n",
    "score = []\n",
    "away_team = []\n",
    "\n",
    "for match in matches:\n",
    "    date.append(match.find_element(By.XPATH,'./td[1]').text)\n",
    "    home_team.append(match.find_element(By.XPATH,'./td[2]').text)\n",
    "    score.append(match.find_element(By.XPATH,'./td[3]').text)\n",
    "    away_team.append(match.find_element(By.XPATH,'./td[4]').text)\n",
    "\n",
    "print(home_team)\n",
    "driver.quit()"
   ]
  },
  {
   "cell_type": "code",
   "execution_count": 35,
   "metadata": {},
   "outputs": [
    {
     "name": "stdout",
     "output_type": "stream",
     "text": [
      "           Date   Home_team  Score   Away_team\n",
      "0    14-08-2023       Cadiz  1 - 0      Alaves\n",
      "1    21-08-2023      Alaves  4 - 3     Sevilla\n",
      "2    28-08-2023      Getafe  1 - 0      Alaves\n",
      "3    02-09-2023      Alaves  1 - 0    Valencia\n",
      "4    15-09-2023   Vallecano  2 - 0      Alaves\n",
      "..          ...         ...    ...         ...\n",
      "617  03-03-2024  Villarreal  5 - 1     Granada\n",
      "618  10-03-2024       Betis  2 - 3  Villarreal\n",
      "619  17-03-2024  Villarreal  1 - 0    Valencia\n",
      "620  01-04-2024  Villarreal  1 - 2  Ath Madrid\n",
      "621  14-04-2024  Ath Bilbao  ? - ?  Villarreal\n",
      "\n",
      "[622 rows x 4 columns]\n"
     ]
    }
   ],
   "source": [
    "df = pd.DataFrame({'Date': date, 'Home_team': home_team, 'Score': score, 'Away_team' : away_team})\n",
    "df.to_csv('football_data.csv', index=False)\n",
    "print(df)\n",
    "\n",
    "\n"
   ]
  },
  {
   "cell_type": "code",
   "execution_count": null,
   "metadata": {},
   "outputs": [],
   "source": []
  }
 ],
 "metadata": {
  "kernelspec": {
   "display_name": "Python 3",
   "language": "python",
   "name": "python3"
  },
  "language_info": {
   "codemirror_mode": {
    "name": "ipython",
    "version": 3
   },
   "file_extension": ".py",
   "mimetype": "text/x-python",
   "name": "python",
   "nbconvert_exporter": "python",
   "pygments_lexer": "ipython3",
   "version": "3.10.5"
  }
 },
 "nbformat": 4,
 "nbformat_minor": 2
}
